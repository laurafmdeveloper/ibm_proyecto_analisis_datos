{
  "cells": [
    {
      "cell_type": "markdown",
      "metadata": {
        "id": "7BVJDqPHANbE"
      },
      "source": [
        "# Final Proyect - Data Analysis IBM Course"
      ]
    },
    {
      "cell_type": "markdown",
      "metadata": {
        "id": "wtkQMM_pATqa"
      },
      "source": [
        "## Student data:\n",
        "### Name: Laura Farrer Muñoz\n",
        "### Mail: laurafmdeveloper@gmail.com\n"
      ]
    },
    {
      "cell_type": "markdown",
      "metadata": {
        "id": "6DWl8LYjA8g2"
      },
      "source": [
        "# import\n"
      ]
    },
    {
      "cell_type": "code",
      "execution_count": 1,
      "metadata": {
        "id": "rd_S95wi7AkL"
      },
      "outputs": [],
      "source": [
        "import pandas as pd\n",
        "import numpy as np\n",
        "import matplotlib.pyplot as plt\n",
        "%matplotlib inline\n",
        "import seaborn as sns"
      ]
    },
    {
      "cell_type": "markdown",
      "metadata": {
        "id": "m8qRY3dELt9h"
      },
      "source": [
        "# Tarea 1"
      ]
    },
    {
      "cell_type": "code",
      "execution_count": 2,
      "metadata": {
        "colab": {
          "base_uri": "https://localhost:8080/",
          "height": 575
        },
        "id": "BJtDkZJ16jp3",
        "outputId": "5c95bcae-2646-4bd4-deca-5d35ebbe7726"
      },
      "outputs": [
        {
          "name": "stderr",
          "output_type": "stream",
          "text": [
            "C:\\Users\\LAURA\\AppData\\Local\\Temp\\ipykernel_20444\\3627661292.py:3: DtypeWarning: Columns (25) have mixed types. Specify dtype option on import or set low_memory=False.\n",
            "  df = pd.read_csv(url)\n"
          ]
        },
        {
          "data": {
            "text/html": [
              "<div>\n",
              "<style scoped>\n",
              "    .dataframe tbody tr th:only-of-type {\n",
              "        vertical-align: middle;\n",
              "    }\n",
              "\n",
              "    .dataframe tbody tr th {\n",
              "        vertical-align: top;\n",
              "    }\n",
              "\n",
              "    .dataframe thead th {\n",
              "        text-align: right;\n",
              "    }\n",
              "</style>\n",
              "<table border=\"1\" class=\"dataframe\">\n",
              "  <thead>\n",
              "    <tr style=\"text-align: right;\">\n",
              "      <th></th>\n",
              "      <th>id</th>\n",
              "      <th>NAME</th>\n",
              "      <th>host id</th>\n",
              "      <th>host_identity_verified</th>\n",
              "      <th>host name</th>\n",
              "      <th>neighbourhood group</th>\n",
              "      <th>neighbourhood</th>\n",
              "      <th>lat</th>\n",
              "      <th>long</th>\n",
              "      <th>country</th>\n",
              "      <th>country code</th>\n",
              "      <th>instant_bookable</th>\n",
              "      <th>cancellation_policy</th>\n",
              "      <th>room type</th>\n",
              "      <th>Construction year</th>\n",
              "      <th>price</th>\n",
              "      <th>service fee</th>\n",
              "      <th>minimum nights</th>\n",
              "      <th>number of reviews</th>\n",
              "      <th>last review</th>\n",
              "      <th>reviews per month</th>\n",
              "      <th>review rate number</th>\n",
              "      <th>calculated host listings count</th>\n",
              "      <th>availability 365</th>\n",
              "      <th>house_rules</th>\n",
              "      <th>license</th>\n",
              "    </tr>\n",
              "  </thead>\n",
              "  <tbody>\n",
              "    <tr>\n",
              "      <th>0</th>\n",
              "      <td>1001254</td>\n",
              "      <td>Clean &amp; quiet apt home by the park</td>\n",
              "      <td>80014485718</td>\n",
              "      <td>unconfirmed</td>\n",
              "      <td>Madaline</td>\n",
              "      <td>Brooklyn</td>\n",
              "      <td>Kensington</td>\n",
              "      <td>40.64749</td>\n",
              "      <td>-73.97237</td>\n",
              "      <td>United States</td>\n",
              "      <td>US</td>\n",
              "      <td>False</td>\n",
              "      <td>strict</td>\n",
              "      <td>Private room</td>\n",
              "      <td>2020.0</td>\n",
              "      <td>$966</td>\n",
              "      <td>$193</td>\n",
              "      <td>10.0</td>\n",
              "      <td>9.0</td>\n",
              "      <td>10/19/2021</td>\n",
              "      <td>0.21</td>\n",
              "      <td>4.0</td>\n",
              "      <td>6.0</td>\n",
              "      <td>286.0</td>\n",
              "      <td>Clean up and treat the home the way you'd like...</td>\n",
              "      <td>NaN</td>\n",
              "    </tr>\n",
              "    <tr>\n",
              "      <th>1</th>\n",
              "      <td>1002102</td>\n",
              "      <td>Skylit Midtown Castle</td>\n",
              "      <td>52335172823</td>\n",
              "      <td>verified</td>\n",
              "      <td>Jenna</td>\n",
              "      <td>Manhattan</td>\n",
              "      <td>Midtown</td>\n",
              "      <td>40.75362</td>\n",
              "      <td>-73.98377</td>\n",
              "      <td>United States</td>\n",
              "      <td>US</td>\n",
              "      <td>False</td>\n",
              "      <td>moderate</td>\n",
              "      <td>Entire home/apt</td>\n",
              "      <td>2007.0</td>\n",
              "      <td>$142</td>\n",
              "      <td>$28</td>\n",
              "      <td>30.0</td>\n",
              "      <td>45.0</td>\n",
              "      <td>5/21/2022</td>\n",
              "      <td>0.38</td>\n",
              "      <td>4.0</td>\n",
              "      <td>2.0</td>\n",
              "      <td>228.0</td>\n",
              "      <td>Pet friendly but please confirm with me if the...</td>\n",
              "      <td>NaN</td>\n",
              "    </tr>\n",
              "    <tr>\n",
              "      <th>2</th>\n",
              "      <td>1002403</td>\n",
              "      <td>THE VILLAGE OF HARLEM....NEW YORK !</td>\n",
              "      <td>78829239556</td>\n",
              "      <td>NaN</td>\n",
              "      <td>Elise</td>\n",
              "      <td>Manhattan</td>\n",
              "      <td>Harlem</td>\n",
              "      <td>40.80902</td>\n",
              "      <td>-73.94190</td>\n",
              "      <td>United States</td>\n",
              "      <td>US</td>\n",
              "      <td>True</td>\n",
              "      <td>flexible</td>\n",
              "      <td>Private room</td>\n",
              "      <td>2005.0</td>\n",
              "      <td>$620</td>\n",
              "      <td>$124</td>\n",
              "      <td>3.0</td>\n",
              "      <td>0.0</td>\n",
              "      <td>NaN</td>\n",
              "      <td>NaN</td>\n",
              "      <td>5.0</td>\n",
              "      <td>1.0</td>\n",
              "      <td>352.0</td>\n",
              "      <td>I encourage you to use my kitchen, cooking and...</td>\n",
              "      <td>NaN</td>\n",
              "    </tr>\n",
              "    <tr>\n",
              "      <th>3</th>\n",
              "      <td>1002755</td>\n",
              "      <td>NaN</td>\n",
              "      <td>85098326012</td>\n",
              "      <td>unconfirmed</td>\n",
              "      <td>Garry</td>\n",
              "      <td>Brooklyn</td>\n",
              "      <td>Clinton Hill</td>\n",
              "      <td>40.68514</td>\n",
              "      <td>-73.95976</td>\n",
              "      <td>United States</td>\n",
              "      <td>US</td>\n",
              "      <td>True</td>\n",
              "      <td>moderate</td>\n",
              "      <td>Entire home/apt</td>\n",
              "      <td>2005.0</td>\n",
              "      <td>$368</td>\n",
              "      <td>$74</td>\n",
              "      <td>30.0</td>\n",
              "      <td>270.0</td>\n",
              "      <td>7/5/2019</td>\n",
              "      <td>4.64</td>\n",
              "      <td>4.0</td>\n",
              "      <td>1.0</td>\n",
              "      <td>322.0</td>\n",
              "      <td>NaN</td>\n",
              "      <td>NaN</td>\n",
              "    </tr>\n",
              "    <tr>\n",
              "      <th>4</th>\n",
              "      <td>1003689</td>\n",
              "      <td>Entire Apt: Spacious Studio/Loft by central park</td>\n",
              "      <td>92037596077</td>\n",
              "      <td>verified</td>\n",
              "      <td>Lyndon</td>\n",
              "      <td>Manhattan</td>\n",
              "      <td>East Harlem</td>\n",
              "      <td>40.79851</td>\n",
              "      <td>-73.94399</td>\n",
              "      <td>United States</td>\n",
              "      <td>US</td>\n",
              "      <td>False</td>\n",
              "      <td>moderate</td>\n",
              "      <td>Entire home/apt</td>\n",
              "      <td>2009.0</td>\n",
              "      <td>$204</td>\n",
              "      <td>$41</td>\n",
              "      <td>10.0</td>\n",
              "      <td>9.0</td>\n",
              "      <td>11/19/2018</td>\n",
              "      <td>0.10</td>\n",
              "      <td>3.0</td>\n",
              "      <td>1.0</td>\n",
              "      <td>289.0</td>\n",
              "      <td>Please no smoking in the house, porch or on th...</td>\n",
              "      <td>NaN</td>\n",
              "    </tr>\n",
              "  </tbody>\n",
              "</table>\n",
              "</div>"
            ],
            "text/plain": [
              "        id                                              NAME      host id  \\\n",
              "0  1001254                Clean & quiet apt home by the park  80014485718   \n",
              "1  1002102                             Skylit Midtown Castle  52335172823   \n",
              "2  1002403               THE VILLAGE OF HARLEM....NEW YORK !  78829239556   \n",
              "3  1002755                                               NaN  85098326012   \n",
              "4  1003689  Entire Apt: Spacious Studio/Loft by central park  92037596077   \n",
              "\n",
              "  host_identity_verified host name neighbourhood group neighbourhood  \\\n",
              "0            unconfirmed  Madaline            Brooklyn    Kensington   \n",
              "1               verified     Jenna           Manhattan       Midtown   \n",
              "2                    NaN     Elise           Manhattan        Harlem   \n",
              "3            unconfirmed     Garry            Brooklyn  Clinton Hill   \n",
              "4               verified    Lyndon           Manhattan   East Harlem   \n",
              "\n",
              "        lat      long        country country code instant_bookable  \\\n",
              "0  40.64749 -73.97237  United States           US            False   \n",
              "1  40.75362 -73.98377  United States           US            False   \n",
              "2  40.80902 -73.94190  United States           US             True   \n",
              "3  40.68514 -73.95976  United States           US             True   \n",
              "4  40.79851 -73.94399  United States           US            False   \n",
              "\n",
              "  cancellation_policy        room type  Construction year  price service fee  \\\n",
              "0              strict     Private room             2020.0  $966        $193    \n",
              "1            moderate  Entire home/apt             2007.0  $142         $28    \n",
              "2            flexible     Private room             2005.0  $620        $124    \n",
              "3            moderate  Entire home/apt             2005.0  $368         $74    \n",
              "4            moderate  Entire home/apt             2009.0  $204         $41    \n",
              "\n",
              "   minimum nights  number of reviews last review  reviews per month  \\\n",
              "0            10.0                9.0  10/19/2021               0.21   \n",
              "1            30.0               45.0   5/21/2022               0.38   \n",
              "2             3.0                0.0         NaN                NaN   \n",
              "3            30.0              270.0    7/5/2019               4.64   \n",
              "4            10.0                9.0  11/19/2018               0.10   \n",
              "\n",
              "   review rate number  calculated host listings count  availability 365  \\\n",
              "0                 4.0                             6.0             286.0   \n",
              "1                 4.0                             2.0             228.0   \n",
              "2                 5.0                             1.0             352.0   \n",
              "3                 4.0                             1.0             322.0   \n",
              "4                 3.0                             1.0             289.0   \n",
              "\n",
              "                                         house_rules license  \n",
              "0  Clean up and treat the home the way you'd like...     NaN  \n",
              "1  Pet friendly but please confirm with me if the...     NaN  \n",
              "2  I encourage you to use my kitchen, cooking and...     NaN  \n",
              "3                                                NaN     NaN  \n",
              "4  Please no smoking in the house, porch or on th...     NaN  "
            ]
          },
          "execution_count": 2,
          "metadata": {},
          "output_type": "execute_result"
        }
      ],
      "source": [
        "# 1) Lee el fichero csv\n",
        "url= 'https://raw.githubusercontent.com/laurafmdeveloper/ibm_proyecto_analisis_datos/1e5a8a91615d150f4f0c45645da13af2330d548c/data/Airbnb_Open_Data.csv'\n",
        "df = pd.read_csv(url)\n",
        "\n",
        "\n",
        "# 2 * - Para que muestre todas las columnas, ajustamos el maximo de columnas a 'ninguno' para que muestre todas las que tenga\n",
        "# Esto es útil para comprender la tabla\n",
        "pd.options.display.max_columns = None\n",
        "\n",
        "# 2) Muestra las primeras 5 filas.\n",
        "df.head()"
      ]
    },
    {
      "cell_type": "code",
      "execution_count": 3,
      "metadata": {
        "colab": {
          "base_uri": "https://localhost:8080/"
        },
        "id": "CvYTE2XG99Uw",
        "outputId": "b76c49bb-1d6b-428e-e003-246847ac67a3"
      },
      "outputs": [
        {
          "data": {
            "text/plain": [
              "id                                  int64\n",
              "NAME                               object\n",
              "host id                             int64\n",
              "host_identity_verified             object\n",
              "host name                          object\n",
              "neighbourhood group                object\n",
              "neighbourhood                      object\n",
              "lat                               float64\n",
              "long                              float64\n",
              "country                            object\n",
              "country code                       object\n",
              "instant_bookable                   object\n",
              "cancellation_policy                object\n",
              "room type                          object\n",
              "Construction year                 float64\n",
              "price                              object\n",
              "service fee                        object\n",
              "minimum nights                    float64\n",
              "number of reviews                 float64\n",
              "last review                        object\n",
              "reviews per month                 float64\n",
              "review rate number                float64\n",
              "calculated host listings count    float64\n",
              "availability 365                  float64\n",
              "house_rules                        object\n",
              "license                            object\n",
              "dtype: object"
            ]
          },
          "execution_count": 3,
          "metadata": {},
          "output_type": "execute_result"
        }
      ],
      "source": [
        "# 3) Muestra los tipos de datos\n",
        "df.dtypes"
      ]
    },
    {
      "cell_type": "markdown",
      "metadata": {
        "id": "KUhZ6EmoH18u"
      },
      "source": [
        "# Tarea 2a: Limpieza de datos (cualquier herramienta)\n"
      ]
    },
    {
      "cell_type": "markdown",
      "metadata": {
        "id": "qGLzf0b3VGok"
      },
      "source": [
        "## * 0. Análisis previo de las columnas y sus niveles:\n",
        "Con un for revisamos los valores que existen en cada columna y si tiene menos de 10 niveles (valores) que los imprima para ver si hay: repeticiones, columnas con un único nivel (no aporta info), etc.\n"
      ]
    },
    {
      "cell_type": "code",
      "execution_count": 4,
      "metadata": {
        "colab": {
          "base_uri": "https://localhost:8080/"
        },
        "id": "9GZWQ7ZAPx5L",
        "outputId": "09887ba1-3365-4d7c-d6ca-e663cfc75453"
      },
      "outputs": [
        {
          "name": "stdout",
          "output_type": "stream",
          "text": [
            "Nº de valores distintos que tiene cada columna\n",
            "*Si la lista de valores es menor a 10, también se imprimirá cada uno \n",
            " para analizarlo e identificar valores nulos, posibles repeticiones, etc\n",
            "\n",
            "COLUMNA:  id \n",
            "Nº Niveles:  102058\n",
            "\n",
            "\n",
            "\n",
            "COLUMNA:  NAME \n",
            "Nº Niveles:  61282\n",
            "\n",
            "\n",
            "\n",
            "COLUMNA:  host id \n",
            "Nº Niveles:  102057\n",
            "\n",
            "\n",
            "\n",
            "COLUMNA:  host_identity_verified \n",
            "Nº Niveles:  3\n",
            "Nombre niveles:  ['unconfirmed' 'verified' nan]\n",
            "\n",
            "\n",
            "\n",
            "COLUMNA:  host name \n",
            "Nº Niveles:  13191\n",
            "\n",
            "\n",
            "\n",
            "COLUMNA:  neighbourhood group \n",
            "Nº Niveles:  8\n",
            "Nombre niveles:  ['Brooklyn' 'Manhattan' 'brookln' 'manhatan' 'Queens' nan 'Staten Island'\n",
            " 'Bronx']\n",
            "\n",
            "\n",
            "\n",
            "COLUMNA:  neighbourhood \n",
            "Nº Niveles:  225\n",
            "\n",
            "\n",
            "\n",
            "COLUMNA:  lat \n",
            "Nº Niveles:  21992\n",
            "\n",
            "\n",
            "\n",
            "COLUMNA:  long \n",
            "Nº Niveles:  17775\n",
            "\n",
            "\n",
            "\n",
            "COLUMNA:  country \n",
            "Nº Niveles:  2\n",
            "Nombre niveles:  ['United States' nan]\n",
            "\n",
            "\n",
            "\n",
            "COLUMNA:  country code \n",
            "Nº Niveles:  2\n",
            "Nombre niveles:  ['US' nan]\n",
            "\n",
            "\n",
            "\n",
            "COLUMNA:  instant_bookable \n",
            "Nº Niveles:  3\n",
            "Nombre niveles:  [False True nan]\n",
            "\n",
            "\n",
            "\n",
            "COLUMNA:  cancellation_policy \n",
            "Nº Niveles:  4\n",
            "Nombre niveles:  ['strict' 'moderate' 'flexible' nan]\n",
            "\n",
            "\n",
            "\n",
            "COLUMNA:  room type \n",
            "Nº Niveles:  4\n",
            "Nombre niveles:  ['Private room' 'Entire home/apt' 'Shared room' 'Hotel room']\n",
            "\n",
            "\n",
            "\n",
            "COLUMNA:  Construction year \n",
            "Nº Niveles:  21\n",
            "\n",
            "\n",
            "\n",
            "COLUMNA:  price \n",
            "Nº Niveles:  1152\n",
            "\n",
            "\n",
            "\n",
            "COLUMNA:  service fee \n",
            "Nº Niveles:  232\n",
            "\n",
            "\n",
            "\n",
            "COLUMNA:  minimum nights \n",
            "Nº Niveles:  154\n",
            "\n",
            "\n",
            "\n",
            "COLUMNA:  number of reviews \n",
            "Nº Niveles:  477\n",
            "\n",
            "\n",
            "\n",
            "COLUMNA:  last review \n",
            "Nº Niveles:  2478\n",
            "\n",
            "\n",
            "\n",
            "COLUMNA:  reviews per month \n",
            "Nº Niveles:  1017\n",
            "\n",
            "\n",
            "\n",
            "COLUMNA:  review rate number \n",
            "Nº Niveles:  6\n",
            "Nombre niveles:  [ 4.  5.  3. nan  2.  1.]\n",
            "\n",
            "\n",
            "\n",
            "COLUMNA:  calculated host listings count \n",
            "Nº Niveles:  79\n",
            "\n",
            "\n",
            "\n",
            "COLUMNA:  availability 365 \n",
            "Nº Niveles:  439\n",
            "\n",
            "\n",
            "\n",
            "COLUMNA:  house_rules \n",
            "Nº Niveles:  1977\n",
            "\n",
            "\n",
            "\n",
            "COLUMNA:  license \n",
            "Nº Niveles:  2\n",
            "Nombre niveles:  [nan '41662/AL']\n",
            "\n",
            "\n",
            "\n"
          ]
        }
      ],
      "source": [
        "print(\"Nº de valores distintos que tiene cada columna\")\n",
        "print(\"*Si la lista de valores es menor a 10, también se imprimirá cada uno \\n para analizarlo e identificar valores nulos, posibles repeticiones, etc\\n\")\n",
        "\n",
        "for col in df:\n",
        "  print('COLUMNA: ', df[col].name , '\\nNº Niveles: ' , len(df[col].unique()))\n",
        "\n",
        "  if ( len(df[col].unique()) <10):\n",
        "    print( 'Nombre niveles: ', df[col].unique())\n",
        "\n",
        "  print(\"\\n\\n\")\n"
      ]
    },
    {
      "cell_type": "markdown",
      "metadata": {
        "id": "ywEHQI8qWx_1"
      },
      "source": [
        "Del resultado:\n",
        "COLUMNA:  neighbourhood group\n",
        " Nº Niveles:  8\n",
        "Nombre niveles:  ['Brooklyn' 'Manhattan' 'brookln' 'manhatan' 'Queens' nan 'Staten Island'\n",
        " 'Bronx']\n",
        "\n",
        "Vemos que hay grupos repetidos (palabras mal escritas): 'Brooklyn' y 'brookln' es el mismo y 'Manhattan'y 'manhatan' también.\n",
        "Vamos a solventar este error y así tendremos sólo 2 grupos de barrio ('Manhattan' y 'Brooklyn')"
      ]
    },
    {
      "cell_type": "code",
      "execution_count": 5,
      "metadata": {
        "colab": {
          "base_uri": "https://localhost:8080/"
        },
        "id": "JRs1GHFAyzWA",
        "outputId": "24aa7ba1-acf1-4c2e-885f-f4e44b7572ed"
      },
      "outputs": [
        {
          "name": "stdout",
          "output_type": "stream",
          "text": [
            "En df['neighbourhood group'] regularizamos los datos de grupos repetidos a 'Brooklyn' y 'Manhattan'\n",
            "['Brooklyn' 'Manhattan' 'brookln' 'manhatan' 'Queens' nan 'Staten Island'\n",
            " 'Bronx']\n",
            "Datos corregidos:\n",
            "['Brooklyn' 'Manhattan' 'Queens' nan 'Staten Island' 'Bronx']\n"
          ]
        }
      ],
      "source": [
        "# Regularizamos estos datos de 'neighbourhood group' a 'brooklyn' y 'manhattan'\n",
        "print(\"En df['neighbourhood group'] regularizamos los datos de grupos repetidos a 'Brooklyn' y 'Manhattan'\")\n",
        "print(df['neighbourhood group'].unique())\n",
        "\n",
        "df.loc[df['neighbourhood group'] == 'brookln', 'neighbourhood group'] = 'Brooklyn'\n",
        "df.loc[df['neighbourhood group'] == 'Brooklyn', 'neighbourhood group'] = 'Brooklyn'\n",
        "df.loc[df['neighbourhood group'] == 'Manhattan', 'neighbourhood group'] = 'Manhattan'\n",
        "df.loc[df['neighbourhood group'] == 'manhatan', 'neighbourhood group'] = 'Manhattan'\n",
        "\n",
        "print(\"Datos corregidos:\")\n",
        "print(df['neighbourhood group'].unique())"
      ]
    },
    {
      "cell_type": "markdown",
      "metadata": {
        "id": "mKo8xksIIooo"
      },
      "source": [
        "## 1. Elimina las columnas no deseadas del dataframe, entre ellas se incluyen host id , id , country y country code.\n"
      ]
    },
    {
      "cell_type": "code",
      "execution_count": 6,
      "metadata": {
        "colab": {
          "base_uri": "https://localhost:8080/"
        },
        "id": "FTKslz6nK7lS",
        "outputId": "782b3947-f4cd-4979-cc64-02bb96460493"
      },
      "outputs": [
        {
          "data": {
            "text/plain": [
              "26"
            ]
          },
          "execution_count": 6,
          "metadata": {},
          "output_type": "execute_result"
        }
      ],
      "source": [
        "df.shape[1] # (102599, 26) Hay 26 columnas antes de eliminar las que no necesitamos"
      ]
    },
    {
      "cell_type": "code",
      "execution_count": 7,
      "metadata": {
        "id": "Cv8VOlWbH-Jq"
      },
      "outputs": [],
      "source": [
        "# Eliminamos las columnas no deseadas buscándolas por su etiqueta (en 'labels) e indicamos si son filas o columnas (al ser columnas, el 'axis' es 1)\n",
        "# Cuidado: Si se ejecuta más de 1 vez, no encuentra la columna ya eliminada y da error\n",
        "\n",
        "df = df.drop(labels = ['id', 'host id','country', 'country code' ], axis=1)"
      ]
    },
    {
      "cell_type": "code",
      "execution_count": 8,
      "metadata": {
        "colab": {
          "base_uri": "https://localhost:8080/"
        },
        "id": "jbYpcJZpHiBq",
        "outputId": "e55ed6e0-cd8c-47a5-d037-82a0df222dc4"
      },
      "outputs": [
        {
          "data": {
            "text/plain": [
              "22"
            ]
          },
          "execution_count": 8,
          "metadata": {},
          "output_type": "execute_result"
        }
      ],
      "source": [
        "df.shape[1] # Comprobamos que se han borrado las 4 columnas, ahora hay 22"
      ]
    },
    {
      "cell_type": "markdown",
      "metadata": {
        "id": "_vWkZA0iKEw1"
      },
      "source": [
        "## 2. Indica la razón por la cual se han eliminado estas columnas para tu análisis de datos"
      ]
    },
    {
      "cell_type": "markdown",
      "metadata": {},
      "source": [
        "Los códigos e ids ('id', 'host id', y 'country code') no los necesitamos en este análisis; serían de utilidad en otras tareas: para relacionar varias tablas de una base de datos SQL con unos JOIN, por ejemplo. La columna 'country' tiene sólo 1 nivel, es decir, todos los apartamentos son del mismo país ('United States'), y por tanto, no añade información. \n",
        "\n",
        "Por esto podemos eliminar estas 4 columnas."
      ]
    },
    {
      "cell_type": "markdown",
      "metadata": {
        "id": "JNrDoYeHRutO"
      },
      "source": [
        "## Otras columnas que no son necesarias:"
      ]
    },
    {
      "cell_type": "code",
      "execution_count": 9,
      "metadata": {
        "id": "sJcivuUbR0P8"
      },
      "outputs": [],
      "source": [
        "# Podemos eliminar estas columnas ya que no necesitamos su información\n",
        "\n",
        "df = df.drop(labels = ['lat', 'long', 'house_rules', 'license'], axis=1)"
      ]
    },
    {
      "cell_type": "code",
      "execution_count": 17,
      "metadata": {
        "colab": {
          "base_uri": "https://localhost:8080/"
        },
        "id": "vWWNCH7UXs5s",
        "outputId": "d36694ca-963e-46a6-aa60-826de8a847f6"
      },
      "outputs": [
        {
          "data": {
            "text/plain": [
              "18"
            ]
          },
          "execution_count": 17,
          "metadata": {},
          "output_type": "execute_result"
        }
      ],
      "source": [
        "df.shape[1]  # Comprobamos que hemos borrado las 4 columnas, ahora hay 18"
      ]
    },
    {
      "cell_type": "markdown",
      "metadata": {
        "id": "HiPE-zelLDo8"
      },
      "source": [
        "# Tarea 2b: Limpieza de datos (Python)\n"
      ]
    },
    {
      "cell_type": "markdown",
      "metadata": {
        "id": "hXvfkCUoLKAi"
      },
      "source": [
        "Compueba si hay valores nulos y muestra el recuento en orden ascendente. Si faltan valores,\n",
        "imputa los valores como consideres.\n",
        "Comprueba si hay valores duplicados y elimínalos.\n",
        "Muestra el número total de registros antes y después de eliminar los duplicados.\n"
      ]
    },
    {
      "cell_type": "markdown",
      "metadata": {},
      "source": [
        "### 1 - V.Nulos"
      ]
    },
    {
      "cell_type": "code",
      "execution_count": 18,
      "metadata": {
        "colab": {
          "base_uri": "https://localhost:8080/"
        },
        "id": "kUAr05o3LOax",
        "outputId": "6436b19e-757c-4fe6-eb82-d333198d7551"
      },
      "outputs": [
        {
          "data": {
            "text/plain": [
              "room type                             0\n",
              "neighbourhood                        16\n",
              "neighbourhood group                  29\n",
              "cancellation_policy                  76\n",
              "instant_bookable                    105\n",
              "number of reviews                   183\n",
              "Construction year                   214\n",
              "price                               247\n",
              "NAME                                250\n",
              "service fee                         273\n",
              "host_identity_verified              289\n",
              "calculated host listings count      319\n",
              "review rate number                  326\n",
              "host name                           406\n",
              "minimum nights                      409\n",
              "availability 365                    448\n",
              "reviews per month                 15879\n",
              "last review                       15893\n",
              "dtype: int64"
            ]
          },
          "execution_count": 18,
          "metadata": {},
          "output_type": "execute_result"
        }
      ],
      "source": [
        "# Con 'sum()' cuenta el nº de valores nulos de cada columna y 'sort_values(ascending=True)' los ordena de forma ascendente\n",
        "df.isnull().sum().sort_values(ascending=True)"
      ]
    },
    {
      "cell_type": "markdown",
      "metadata": {},
      "source": [
        "### 2 - Imputación de valores que faltan"
      ]
    },
    {
      "cell_type": "code",
      "execution_count": 19,
      "metadata": {
        "colab": {
          "base_uri": "https://localhost:8080/"
        },
        "id": "3JlzTFO49ZDh",
        "outputId": "cb1e6834-8712-4aa4-9779-64a70a9ae186"
      },
      "outputs": [
        {
          "name": "stdout",
          "output_type": "stream",
          "text": [
            "\n",
            "Gestión de datos: Imputación de valores que faltan\n",
            "\n",
            "\n",
            "\n",
            "Tipo de dato de cada columna (nos permite clasificarlas en numéricas o categóricas) y recuento de valores no nulos\n",
            "\n",
            "<class 'pandas.core.frame.DataFrame'>\n",
            "RangeIndex: 102599 entries, 0 to 102598\n",
            "Data columns (total 18 columns):\n",
            " #   Column                          Non-Null Count   Dtype  \n",
            "---  ------                          --------------   -----  \n",
            " 0   NAME                            102349 non-null  object \n",
            " 1   host_identity_verified          102310 non-null  object \n",
            " 2   host name                       102193 non-null  object \n",
            " 3   neighbourhood group             102570 non-null  object \n",
            " 4   neighbourhood                   102583 non-null  object \n",
            " 5   instant_bookable                102494 non-null  object \n",
            " 6   cancellation_policy             102523 non-null  object \n",
            " 7   room type                       102599 non-null  object \n",
            " 8   Construction year               102385 non-null  float64\n",
            " 9   price                           102352 non-null  object \n",
            " 10  service fee                     102326 non-null  object \n",
            " 11  minimum nights                  102190 non-null  float64\n",
            " 12  number of reviews               102416 non-null  float64\n",
            " 13  last review                     86706 non-null   object \n",
            " 14  reviews per month               86720 non-null   float64\n",
            " 15  review rate number              102273 non-null  float64\n",
            " 16  calculated host listings count  102280 non-null  float64\n",
            " 17  availability 365                102151 non-null  float64\n",
            "dtypes: float64(7), object(11)\n",
            "memory usage: 14.1+ MB\n",
            "None\n"
          ]
        }
      ],
      "source": [
        "# Gestión de datos: Imputación de valores que faltan\n",
        "# Imputamos los valores nulos con la media en el caso de variables numéricas y con la moda en el caso de las categóricas:\n",
        "print(\"\\nGestión de datos: Imputación de valores que faltan\\n\\n\")\n",
        "print(\"\\nTipo de dato de cada columna (nos permite clasificarlas en numéricas o categóricas) y recuento de valores no nulos\\n\")\n",
        "print(df.info())"
      ]
    },
    {
      "cell_type": "code",
      "execution_count": 22,
      "metadata": {
        "colab": {
          "base_uri": "https://localhost:8080/"
        },
        "id": "9g1y2BMDpyIP",
        "outputId": "2cbf28d5-9bc0-4d62-ec97-0cf1297b9704"
      },
      "outputs": [
        {
          "name": "stdout",
          "output_type": "stream",
          "text": [
            "Nº valores nulos en Col. neighbourhood:  16\n",
            "\n",
            "\n",
            "\n",
            "\n",
            "\n",
            " Aplicamos el filtro al dataframe para ver los Registros con valores nulos: \n",
            "\n",
            "\n",
            "                                                NAME host_identity_verified  \\\n",
            "517             \"The Oasis\" on Bedford Williamsburg            unconfirmed   \n",
            "547                       STYLISH EAST VILLAGE FLAT               verified   \n",
            "553            Comfortable. Spacious. Private Room.            unconfirmed   \n",
            "575    2 Bed, 2 Bath Apartment on Central Park West            unconfirmed   \n",
            "589                           CBG Helps Haiti Rm #3               verified   \n",
            "613               Wonderfully inviting East Village               verified   \n",
            "624           Stylish Studio with exclusive Terrace            unconfirmed   \n",
            "633             Lower East Side/Chinatown 1 Bedroom               verified   \n",
            "643                        2BR  Apt - 20min to Soho               verified   \n",
            "670                Loft Suite @ The Box House Hotel               verified   \n",
            "678                Loft Suite @ The Box House Hotel               verified   \n",
            "681               Loft w/ Terrace @ Box House Hotel            unconfirmed   \n",
            "726                 Studio sublet in Hell's kitchen               verified   \n",
            "731               One bed suite with private garden            unconfirmed   \n",
            "760  Spacious room on charming block in Greenpoint!               verified   \n",
            "770              Nights in White Satin in the Slope            unconfirmed   \n",
            "\n",
            "    host name neighbourhood group neighbourhood instant_bookable  \\\n",
            "517     Lucas            Brooklyn           NaN              NaN   \n",
            "547    Arnold           Manhattan           NaN             True   \n",
            "553       Ned           Manhattan           NaN             True   \n",
            "575    Arthur           Manhattan           NaN             True   \n",
            "589     Jacob            Brooklyn           NaN            False   \n",
            "613    Carter           Manhattan           NaN             True   \n",
            "624      Cole           Manhattan           NaN            False   \n",
            "633   Higgins           Manhattan           NaN            False   \n",
            "643   Barrett            Brooklyn           NaN            False   \n",
            "670      Gray            Brooklyn           NaN            False   \n",
            "678     Smith            Brooklyn           NaN              NaN   \n",
            "681   Higgins            Brooklyn           NaN             True   \n",
            "726     Baker           Manhattan           NaN             True   \n",
            "731     Myers           Manhattan           NaN            False   \n",
            "760  Williams            Brooklyn           NaN             True   \n",
            "770   Farrell            Brooklyn           NaN            False   \n",
            "\n",
            "    cancellation_policy        room type  Construction year    price  \\\n",
            "517                 NaN  Entire home/apt             2005.0      NaN   \n",
            "547              strict  Entire home/apt             2013.0    $749    \n",
            "553            flexible     Private room             2019.0    $613    \n",
            "575              strict  Entire home/apt             2014.0    $892    \n",
            "589              strict     Private room             2003.0    $793    \n",
            "613            moderate     Private room             2004.0    $486    \n",
            "624            moderate  Entire home/apt             2019.0    $417    \n",
            "633            flexible  Entire home/apt             2017.0  $1,148    \n",
            "643            moderate  Entire home/apt             2015.0    $938    \n",
            "670              strict  Entire home/apt             2006.0    $104    \n",
            "678                 NaN  Entire home/apt             2018.0    $914    \n",
            "681            flexible     Private room             2009.0    $528    \n",
            "726            moderate  Entire home/apt             2003.0    $831    \n",
            "731            flexible  Entire home/apt             2005.0    $624    \n",
            "760              strict     Private room             2020.0    $745    \n",
            "770              strict  Entire home/apt             2007.0  $1,111    \n",
            "\n",
            "    service fee  minimum nights  number of reviews last review  \\\n",
            "517       $130              6.0                1.0    1/1/2016   \n",
            "547       $150             30.0               25.0   4/30/2018   \n",
            "553       $123              NaN              172.0    7/2/2019   \n",
            "575       $178              2.0               45.0   4/22/2019   \n",
            "589       $159              2.0               23.0   9/15/2018   \n",
            "613        $97              1.0              109.0   10/2/2015   \n",
            "624        $83             30.0              136.0   6/19/2019   \n",
            "633       $230              5.0                8.0   5/18/2018   \n",
            "643       $188              3.0                5.0    7/9/2017   \n",
            "670        $21              3.0               24.0   11/6/2018   \n",
            "678       $183              3.0               30.0    7/3/2019   \n",
            "681       $106              3.0                3.0   11/3/2015   \n",
            "726       $166              5.0                8.0    1/8/2015   \n",
            "731       $125             30.0               16.0   3/31/2019   \n",
            "760       $149              4.0                6.0   4/21/2019   \n",
            "770       $222            180.0                1.0    9/1/2016   \n",
            "\n",
            "     reviews per month  review rate number  calculated host listings count  \\\n",
            "517               0.02                 5.0                             1.0   \n",
            "547               0.26                 4.0                             1.0   \n",
            "553               1.84                 5.0                             2.0   \n",
            "575               0.47                 4.0                             3.0   \n",
            "589               0.24                 1.0                             6.0   \n",
            "613               1.15                 2.0                             1.0   \n",
            "624               1.45                 4.0                             1.0   \n",
            "633               0.11                 3.0                             1.0   \n",
            "643               0.05                 2.0                             1.0   \n",
            "670               0.32                 4.0                            28.0   \n",
            "678               0.32                 5.0                            28.0   \n",
            "681               0.03                 2.0                            28.0   \n",
            "726               0.09                 3.0                             1.0   \n",
            "731               0.17                 4.0                             5.0   \n",
            "760               0.07                 3.0                             1.0   \n",
            "770               0.03                 4.0                             1.0   \n",
            "\n",
            "     availability 365  \n",
            "517             266.0  \n",
            "547              67.0  \n",
            "553              63.0  \n",
            "575               4.0  \n",
            "589               NaN  \n",
            "613             116.0  \n",
            "624             272.0  \n",
            "633              42.0  \n",
            "643             408.0  \n",
            "670             419.0  \n",
            "678             296.0  \n",
            "681             216.0  \n",
            "726             322.0  \n",
            "731              24.0  \n",
            "760              20.0  \n",
            "770             163.0  \n"
          ]
        }
      ],
      "source": [
        "# Comprobamos el filtro en una columna:\n",
        "print(\"Nº valores nulos en Col. neighbourhood: \",  df['neighbourhood'].isnull().sum())\n",
        "\n",
        "filtro_nulos = df['neighbourhood'].isnull()\n",
        "print(\"\\n\\n\\n\\n Aplicamos el filtro al dataframe para imprimir los todos los registros con valores nulos de la col. 'neighbourhood': \\n\\n\\n\", df[filtro_nulos])"
      ]
    },
    {
      "cell_type": "code",
      "execution_count": 24,
      "metadata": {
        "colab": {
          "base_uri": "https://localhost:8080/"
        },
        "id": "ZKWdq2ygfbIB",
        "outputId": "f63e3932-ab7d-4f2b-b407-8a1c5ee99803"
      },
      "outputs": [
        {
          "name": "stdout",
          "output_type": "stream",
          "text": [
            "Rellenando valores nulos de la columna categórica:  NAME\n",
            "mode:  Home away from home\n",
            "nº col categoricas:  1\n",
            "Rellenando valores nulos de la columna categórica:  host_identity_verified\n",
            "mode:  unconfirmed\n",
            "nº col categoricas:  2\n",
            "Rellenando valores nulos de la columna categórica:  host name\n",
            "mode:  Michael\n",
            "nº col categoricas:  3\n",
            "Rellenando valores nulos de la columna categórica:  neighbourhood group\n",
            "mode:  Manhattan\n",
            "nº col categoricas:  4\n",
            "Rellenando valores nulos de la columna categórica:  neighbourhood\n",
            "mode:  Bedford-Stuyvesant\n",
            "nº col categoricas:  5\n",
            "Rellenando valores nulos de la columna numérica:  instant_bookable\n",
            "mean:  0.49727580190840065\n",
            "nº col numericas:  1\n",
            "Rellenando valores nulos de la columna categórica:  cancellation_policy\n",
            "mode:  moderate\n",
            "nº col categoricas:  6\n",
            "Rellenando valores nulos de la columna categórica:  room type\n",
            "mode:  Entire home/apt\n",
            "nº col categoricas:  7\n",
            "Rellenando valores nulos de la columna numérica:  Construction year\n",
            "mean:  2012.487463983982\n",
            "nº col numericas:  2\n",
            "Rellenando valores nulos de la columna categórica:  price\n",
            "mode:  $206 \n",
            "nº col categoricas:  8\n",
            "Rellenando valores nulos de la columna categórica:  service fee\n",
            "mode:  $41 \n",
            "nº col categoricas:  9\n",
            "Rellenando valores nulos de la columna numérica:  minimum nights\n",
            "mean:  8.13584499461787\n",
            "nº col numericas:  3\n",
            "Rellenando valores nulos de la columna numérica:  number of reviews\n",
            "mean:  27.483742774566473\n",
            "nº col numericas:  4\n",
            "Rellenando valores nulos de la columna categórica:  last review\n",
            "mode:  6/23/2019\n",
            "nº col categoricas:  10\n",
            "Rellenando valores nulos de la columna numérica:  reviews per month\n",
            "mean:  1.3740219095940958\n",
            "nº col numericas:  5\n",
            "Rellenando valores nulos de la columna numérica:  review rate number\n",
            "mean:  3.2791059223842067\n",
            "nº col numericas:  6\n",
            "Rellenando valores nulos de la columna numérica:  calculated host listings count\n",
            "mean:  7.936605396949552\n",
            "nº col numericas:  7\n",
            "Rellenando valores nulos de la columna numérica:  availability 365\n",
            "mean:  141.13325371264108\n",
            "nº col numericas:  8\n",
            "Total col del datafrane: 18\n",
            "Total de col. numéricas + categóricas procesadas:  18\n",
            "Si devuelve True, todas las columnas de la tabla se han procesado correctamente:  True\n"
          ]
        }
      ],
      "source": [
        "# Imputamos los datos con la moda para var. categóricas y lamedia en numéricas\n",
        "# Después se comprueba que todas las columnas han sido procesadas\n",
        "\n",
        "categoricas = 0\n",
        "numericas = 0\n",
        "\n",
        "\n",
        "for col in df.columns:\n",
        "  # Si el tipo de la columna es de tipo 'ó' mayuscula, es decir, object\n",
        "  if (df[col].dtype == 'O'):\n",
        "    print(\"Rellenando valores nulos de la columna categórica: \", col)\n",
        "    print(\"mode: \",df[col].mode()[0])\n",
        "    categoricas +=1\n",
        "    print(\"nº col categoricas: \", str(categoricas))\n",
        "    df[col] =df[col].fillna(df[col].mode()[0])\n",
        "\n",
        "\n",
        "  else:\n",
        "\n",
        "    print(\"Rellenando valores nulos de la columna numérica: \", col)\n",
        "\n",
        "    print(\"mean: \",df[col].mean())\n",
        "\n",
        "    numericas +=1\n",
        "    print(\"nº col numericas: \", str(numericas))\n",
        "    df[col].fillna(df[col].mean(), inplace=True)\n",
        "\n",
        "\n",
        "\n",
        "# Se comprueba que todas las columnas han sido procesadas\n",
        "\n",
        "print(\"Total col del dataframe:\", len(df.columns))\n",
        "print(\"Total col. numéricas + categóricas procesadas: \", numericas + categoricas)\n",
        "print(\"Si devuelve True, todas las columnas de la tabla se han procesado correctamente: \", ( len(df.columns) == (numericas + categoricas) )  )"
      ]
    },
    {
      "cell_type": "code",
      "execution_count": 26,
      "metadata": {
        "colab": {
          "base_uri": "https://localhost:8080/"
        },
        "id": "fXVgg-jFUGx9",
        "outputId": "fa1b6e76-9f27-4b57-d392-844174d2f3ce"
      },
      "outputs": [
        {
          "name": "stdout",
          "output_type": "stream",
          "text": [
            "Si los nulos se han imputado correctamente, no habrá en ninguna columna\n",
            " NAME                              0\n",
            "host_identity_verified            0\n",
            "host name                         0\n",
            "neighbourhood group               0\n",
            "neighbourhood                     0\n",
            "instant_bookable                  0\n",
            "cancellation_policy               0\n",
            "room type                         0\n",
            "Construction year                 0\n",
            "price                             0\n",
            "service fee                       0\n",
            "minimum nights                    0\n",
            "number of reviews                 0\n",
            "last review                       0\n",
            "reviews per month                 0\n",
            "review rate number                0\n",
            "calculated host listings count    0\n",
            "availability 365                  0\n",
            "dtype: int64\n"
          ]
        }
      ],
      "source": [
        "print(\"Si los nulos se han imputado correctamente, no habrá en ninguna columna\\n\", df.isnull().sum()) "
      ]
    },
    {
      "cell_type": "markdown",
      "metadata": {},
      "source": [
        "### 3 - Valores duplicados"
      ]
    },
    {
      "cell_type": "code",
      "execution_count": 27,
      "metadata": {
        "colab": {
          "base_uri": "https://localhost:8080/"
        },
        "id": "1C0A_6IwLf2n",
        "outputId": "fa762571-1cbb-4bb4-881e-e7c05373d1c0"
      },
      "outputs": [
        {
          "data": {
            "text/plain": [
              "3628"
            ]
          },
          "execution_count": 27,
          "metadata": {},
          "output_type": "execute_result"
        }
      ],
      "source": [
        "## Comprueba si hay valores duplicados y elimínalos.\n",
        "df.duplicated().sum()"
      ]
    },
    {
      "cell_type": "code",
      "execution_count": 28,
      "metadata": {
        "colab": {
          "base_uri": "https://localhost:8080/"
        },
        "id": "ikXWgCdOZ5aH",
        "outputId": "0ca0cd7d-eb57-4e28-c16e-1dd7c94f049b"
      },
      "outputs": [
        {
          "data": {
            "text/plain": [
              "102599"
            ]
          },
          "execution_count": 28,
          "metadata": {},
          "output_type": "execute_result"
        }
      ],
      "source": [
        "## Muestra el número total de registros antes de eliminar los duplicados.  // (102599, 18) registros: 102599\n",
        "df.shape[0]"
      ]
    },
    {
      "cell_type": "code",
      "execution_count": 29,
      "metadata": {
        "id": "vIn_weV5Zdc2"
      },
      "outputs": [],
      "source": [
        "df.drop_duplicates(inplace=True)"
      ]
    },
    {
      "cell_type": "code",
      "execution_count": 30,
      "metadata": {
        "colab": {
          "base_uri": "https://localhost:8080/"
        },
        "id": "r8UNkwRJZjeR",
        "outputId": "8c96ca68-3a76-40b9-ba57-1dcd57058e89"
      },
      "outputs": [
        {
          "data": {
            "text/plain": [
              "0"
            ]
          },
          "execution_count": 30,
          "metadata": {},
          "output_type": "execute_result"
        }
      ],
      "source": [
        "df.duplicated().sum() # Comprobamos que se eliminaron los duplicados"
      ]
    },
    {
      "cell_type": "code",
      "execution_count": 31,
      "metadata": {
        "colab": {
          "base_uri": "https://localhost:8080/"
        },
        "id": "EUVs8GWdLlb3",
        "outputId": "4d0f8453-f7c9-40ce-9e26-af3a7498b74a"
      },
      "outputs": [
        {
          "data": {
            "text/plain": [
              "98971"
            ]
          },
          "execution_count": 31,
          "metadata": {},
          "output_type": "execute_result"
        }
      ],
      "source": [
        "## Muestra el número total de registros después de eliminar los duplicados.  // (98984, 18) registros: 98984\n",
        "df.shape[0]"
      ]
    },
    {
      "cell_type": "markdown",
      "metadata": {
        "id": "HryEyHne93GU"
      },
      "source": [
        "# Tarea 3: Transformación de datos\n"
      ]
    },
    {
      "cell_type": "markdown",
      "metadata": {
        "id": "2CXg61Vi_2fV"
      },
      "source": [
        "Cambia el nombre de la columna availability 365 a days_booked .\n",
        "\n",
        "Convierte todos los nombres de columna a minúsculas y sustituye los espacios en los nombres de columna por un guión bajo \"_\".\n",
        "\n",
        "\n",
        "Elimina el signo de dólares y la coma de las columnas price y service_fee . Si es necesario, convierte estas dos columnas al tipo de datos adecuado"
      ]
    },
    {
      "cell_type": "code",
      "execution_count": 32,
      "metadata": {
        "colab": {
          "base_uri": "https://localhost:8080/"
        },
        "id": "RFLE90-O_3Jo",
        "outputId": "3daa42b0-119b-4e1c-d39c-bc0ec7378118"
      },
      "outputs": [
        {
          "name": "stdout",
          "output_type": "stream",
          "text": [
            "Columna 'availability 365' se ha renombrado a 'days_booked'.\n"
          ]
        }
      ],
      "source": [
        "df.rename(columns={'availability 365': 'days_booked'}, inplace=True)\n",
        "print(\"Columna 'availability 365' se ha renombrado a 'days_booked'.\")"
      ]
    },
    {
      "cell_type": "code",
      "execution_count": null,
      "metadata": {
        "colab": {
          "base_uri": "https://localhost:8080/"
        },
        "id": "IcgAdRJuWDmN",
        "outputId": "e2448cf3-b570-4a10-fdaf-1812fcad826f"
      },
      "outputs": [
        {
          "name": "stdout",
          "output_type": "stream",
          "text": [
            "Index(['NAME', 'host_identity_verified', 'host name', 'neighbourhood group',\n",
            "       'neighbourhood', 'instant_bookable', 'cancellation_policy', 'room type',\n",
            "       'Construction year', 'price', 'service fee', 'minimum nights',\n",
            "       'number of reviews', 'last review', 'reviews per month',\n",
            "       'review rate number', 'calculated host listings count', 'days_booked'],\n",
            "      dtype='object')\n"
          ]
        }
      ],
      "source": [
        "print(df.columns)"
      ]
    },
    {
      "cell_type": "code",
      "execution_count": 34,
      "metadata": {
        "colab": {
          "base_uri": "https://localhost:8080/"
        },
        "id": "46YlGOp2a2uJ",
        "outputId": "b5549ff5-1340-4e2d-d113-4dc9fba521c7"
      },
      "outputs": [
        {
          "name": "stdout",
          "output_type": "stream",
          "text": [
            "Todos los nombres de las columnas deben estar en minúscula y hay que remplazar los espacios por '_':\n",
            " Index(['name', 'host_identity_verified', 'host_name', 'neighbourhood_group',\n",
            "       'neighbourhood', 'instant_bookable', 'cancellation_policy', 'room_type',\n",
            "       'construction_year', 'price', 'service_fee', 'minimum_nights',\n",
            "       'number_of_reviews', 'last_review', 'reviews_per_month',\n",
            "       'review_rate_number', 'calculated_host_listings_count', 'days_booked'],\n",
            "      dtype='object')\n"
          ]
        }
      ],
      "source": [
        "# Todos los nombres de las columnas deben estar en minúscula y hay que remplazar los espacios por '_'\n",
        "df.columns = df.columns.str.lower().str.replace(' ', '_')\n",
        "\n",
        "print(\"Todos los nombres de las columnas deben estar en minúscula y hay que remplazar los espacios por '_':\\n\", df.columns)"
      ]
    },
    {
      "cell_type": "code",
      "execution_count": 35,
      "metadata": {
        "colab": {
          "base_uri": "https://localhost:8080/"
        },
        "id": "dtAl0CQLbXvI",
        "outputId": "5b89d72e-286b-494b-98ba-e6459461215f"
      },
      "outputs": [
        {
          "name": "stdout",
          "output_type": "stream",
          "text": [
            "0    $966 \n",
            "1    $142 \n",
            "2    $620 \n",
            "3    $368 \n",
            "4    $204 \n",
            "Name: price, dtype: object\n"
          ]
        }
      ],
      "source": [
        "\n",
        "#Elimina el signo de dólares y la coma de las columnas 'price' y 'service_fee' .\n",
        "print(df[\"price\"].head())\n",
        "\n",
        "#Definimos la función \n",
        "def remove_dollar_sign(value):\n",
        "  if pd.isna(value):\n",
        "   return np.NaN\n",
        "  else:\n",
        "\n",
        "   return float(value.replace(\"$\",\"\").replace(\",\",\"\").replace(\" \",\"\"))\n"
      ]
    },
    {
      "cell_type": "code",
      "execution_count": 36,
      "metadata": {
        "id": "ZkkxGMvB5R4u"
      },
      "outputs": [],
      "source": [
        "# Aplicamos la función a cada elemento de las columnas price y service_fee para\n",
        "# eliminar la coma y el símbolo de dolar y después, transformar el tipo de dato a float\n",
        "df[\"price\"] = df[\"price\"].apply(lambda x: remove_dollar_sign(x))\n",
        "df['service_fee'] = df['service_fee'].apply(lambda x: remove_dollar_sign(x))"
      ]
    },
    {
      "cell_type": "code",
      "execution_count": 37,
      "metadata": {
        "colab": {
          "base_uri": "https://localhost:8080/"
        },
        "id": "HUDG45WJ7Xo7",
        "outputId": "13a381e1-2e72-401b-80ed-67cb1f032c21"
      },
      "outputs": [
        {
          "name": "stdout",
          "output_type": "stream",
          "text": [
            "0    966.0\n",
            "1    142.0\n",
            "2    620.0\n",
            "3    368.0\n",
            "4    204.0\n",
            "Name: price, dtype: float64\n",
            "0    193.0\n",
            "1     28.0\n",
            "2    124.0\n",
            "3     74.0\n",
            "4     41.0\n",
            "Name: service_fee, dtype: float64\n"
          ]
        }
      ],
      "source": [
        "# COMPROBAMOS el resultado\n",
        "\n",
        "print(df[\"price\"].head())\n",
        "print(df['service_fee'].head())\n"
      ]
    },
    {
      "cell_type": "markdown",
      "metadata": {
        "id": "4HOLz7Gh9_e1"
      },
      "source": [
        "# Tarea 4: Análisis exploratorio de datos"
      ]
    },
    {
      "cell_type": "markdown",
      "metadata": {
        "id": "ee70kqII-FtV"
      },
      "source": [
        "### Enumera los tipos de habitaciones disponibles en el dataset."
      ]
    },
    {
      "cell_type": "code",
      "execution_count": null,
      "metadata": {
        "colab": {
          "base_uri": "https://localhost:8080/"
        },
        "id": "5P5xczQve37u",
        "outputId": "7a132fcd-7ff0-41b2-811c-45291c14286e"
      },
      "outputs": [
        {
          "data": {
            "text/plain": [
              "array(['Private room', 'Entire home/apt', 'Shared room', 'Hotel room'],\n",
              "      dtype=object)"
            ]
          },
          "execution_count": 33,
          "metadata": {},
          "output_type": "execute_result"
        }
      ],
      "source": [
        "df[\"room_type\"].unique()"
      ]
    },
    {
      "cell_type": "code",
      "execution_count": 38,
      "metadata": {},
      "outputs": [
        {
          "data": {
            "text/plain": [
              "room_type\n",
              "Entire home/apt    51916\n",
              "Private room       44797\n",
              "Shared room         2143\n",
              "Hotel room           115\n",
              "Name: count, dtype: int64"
            ]
          },
          "execution_count": 38,
          "metadata": {},
          "output_type": "execute_result"
        }
      ],
      "source": [
        "df[\"room_type\"].value_counts()"
      ]
    },
    {
      "cell_type": "markdown",
      "metadata": {
        "id": "tF-PS5ZH_lQt"
      },
      "source": [
        "### ¿Qué tipo de habitación tiene la política de cancelación más estricta?\n"
      ]
    },
    {
      "cell_type": "code",
      "execution_count": null,
      "metadata": {
        "colab": {
          "base_uri": "https://localhost:8080/"
        },
        "id": "23rIf2GgfetR",
        "outputId": "a8b6dde8-85d3-43f5-b300-e392bc7b1d8c"
      },
      "outputs": [
        {
          "data": {
            "text/plain": [
              "array(['strict', 'moderate', 'flexible'], dtype=object)"
            ]
          },
          "execution_count": 34,
          "metadata": {},
          "output_type": "execute_result"
        }
      ],
      "source": [
        "# Vemos todos los valores que tiene la política de canc.\n",
        "df[\"cancellation_policy\"].unique()"
      ]
    },
    {
      "cell_type": "code",
      "execution_count": 41,
      "metadata": {
        "colab": {
          "base_uri": "https://localhost:8080/"
        },
        "id": "GfqTMoMf_oS9",
        "outputId": "fd136ea2-b0a8-4ef8-c7b4-8c20946987af"
      },
      "outputs": [
        {
          "data": {
            "text/plain": [
              "room_type\n",
              "Entire home/apt    17214\n",
              "Private room       14905\n",
              "Shared room          717\n",
              "Hotel room            34\n",
              "Name: count, dtype: int64"
            ]
          },
          "execution_count": 41,
          "metadata": {},
          "output_type": "execute_result"
        }
      ],
      "source": [
        "# Filtro con la condición de que tienen política estricta \n",
        "# df[\"room_type\"][df[\"cancellation_policy\"] == 'strict' ]\n",
        "\n",
        "# Filtramos las habitaciones que cumplen con una política estricta e imprimimos cuántas hay\n",
        "df[\"room_type\"][df[\"cancellation_policy\"] == 'strict'].value_counts()\n",
        "\n",
        "\n"
      ]
    },
    {
      "cell_type": "code",
      "execution_count": 42,
      "metadata": {
        "colab": {
          "base_uri": "https://localhost:8080/"
        },
        "id": "FfnMoxVcf3hS",
        "outputId": "a73663f2-fbb3-4f50-957c-ee75e4a1ac48"
      },
      "outputs": [
        {
          "data": {
            "text/plain": [
              "room_type\n",
              "Entire home/apt    17214\n",
              "Hotel room            34\n",
              "Private room       14905\n",
              "Shared room          717\n",
              "Name: room_type, dtype: int64"
            ]
          },
          "execution_count": 42,
          "metadata": {},
          "output_type": "execute_result"
        }
      ],
      "source": [
        "# Otra forma de filtrar las habitaciones que cumplen con una política estricta e imprimimos cuántas hay\n",
        "df[\"room_type\"][ df[\"cancellation_policy\"] == 'strict'].groupby(df[\"room_type\"]).count()\n",
        " "
      ]
    },
    {
      "cell_type": "code",
      "execution_count": 43,
      "metadata": {
        "colab": {
          "base_uri": "https://localhost:8080/"
        },
        "id": "Xh9t21qJCn3R",
        "outputId": "dc17789f-0f9f-4db9-8e60-f4b9467a5713"
      },
      "outputs": [
        {
          "name": "stdout",
          "output_type": "stream",
          "text": [
            "La habitación con política de cancelación más estricta es  Entire home/apt\n"
          ]
        }
      ],
      "source": [
        "# La habitación con política de cancelación más estricta es:\n",
        "\n",
        "print(\"La habitación con política de cancelación más estricta es: \", df[\"room_type\"][ df[\"cancellation_policy\"] == 'strict'].value_counts().idxmax())"
      ]
    },
    {
      "cell_type": "markdown",
      "metadata": {
        "id": "pC1Hu4qe_osp"
      },
      "source": [
        "### Enumera el precio medio por barrio y señala cuál es el conjunto de barrios más caro para alquilar."
      ]
    },
    {
      "cell_type": "code",
      "execution_count": null,
      "metadata": {
        "colab": {
          "base_uri": "https://localhost:8080/"
        },
        "id": "MqLygcSZmFIk",
        "outputId": "a3c3b2d8-e4b3-438f-b7e7-456bcb8ea200"
      },
      "outputs": [
        {
          "data": {
            "text/plain": [
              "neighbourhood_group\n",
              "Queens           628.546051\n",
              "Staten Island    625.896175\n",
              "Bronx            625.517440\n",
              "brooklyn         625.446759\n",
              "Manhattan        621.640501\n",
              "Name: price, dtype: float64"
            ]
          },
          "execution_count": 38,
          "metadata": {},
          "output_type": "execute_result"
        }
      ],
      "source": [
        "\n",
        "df[\"price\"].groupby(df[\"neighbourhood_group\"]).mean().sort_values(ascending=False)"
      ]
    },
    {
      "cell_type": "markdown",
      "metadata": {
        "id": "gn78Vkt0mRX-"
      },
      "source": [
        "Los conjuntos de barrios más caros son Queens y Staten Island"
      ]
    },
    {
      "cell_type": "markdown",
      "metadata": {
        "id": "GFggGKul-JCE"
      },
      "source": [
        "# Tarea 5a: Visualización de datos"
      ]
    },
    {
      "cell_type": "markdown",
      "metadata": {
        "id": "DJzr8H-M_K7L"
      },
      "source": [
        "### Enumerar los distintos tipos de habitaciones disponibles en Airbnb"
      ]
    },
    {
      "cell_type": "markdown",
      "metadata": {},
      "source": [
        "### Las 3 primeras tareas son las mismas que la Tarea 4\n"
      ]
    },
    {
      "cell_type": "markdown",
      "metadata": {
        "id": "KQ03XrM49olk"
      },
      "source": [
        "### - Enumere los 10 barrios más caros por orden creciente de precio con la ayuda de un gráfico de barras horizontales. ¿Cuál es el barrio más barato?"
      ]
    },
    {
      "cell_type": "code",
      "execution_count": 45,
      "metadata": {},
      "outputs": [
        {
          "data": {
            "image/png": "[encoded data removed]",
            "text/plain": [
              "<Figure size 720x576 with 1 Axes>"
            ]
          },
          "metadata": {
            "needs_background": "light"
          },
          "output_type": "display_data"
        }
      ],
      "source": [
        "vecidarios_mas_caros = df.groupby('neighbourhood')['price'].mean().nlargest(10).sort_values()\n",
        "plt.figure(figsize=(10, 8))\n",
        "vecidarios_mas_caros.plot(kind='barh', color='skyblue')\n",
        "plt.title('Los 10 vecindarios mas caros')\n",
        "plt.xlabel('Precio medio')\n",
        "plt.ylabel('Vecindario')\n",
        "plt.show()"
      ]
    },
    {
      "cell_type": "markdown",
      "metadata": {},
      "source": [
        "### Enumere los barrios que ofrecen alquileres a corto plazo de menos de 10 días "
      ]
    },
    {
      "cell_type": "code",
      "execution_count": 77,
      "metadata": {},
      "outputs": [
        {
          "data": {
            "image/png": "[encoded data removed]",
            "text/plain": [
              "<Figure size 432x288 with 1 Axes>"
            ]
          },
          "metadata": {
            "needs_background": "light"
          },
          "output_type": "display_data"
        }
      ],
      "source": [
        "filtro_dias = df['minimum_nights']<10\n",
        "df['neighbourhood'][filtro_dias].value_counts()\n",
        "\n",
        "barrios_mas_alquileres_10_dias = df['neighbourhood'][filtro_dias].value_counts().nlargest(5)\n",
        "barrios_mas_alquileres_10_dias.plot(kind='barh', color='skyblue')\n",
        "plt.xlabel('número de alquileres')\n",
        "plt.title('Los 5 barrios con mayor nº de alquileres a corto plazo')\n",
        "plt.ylabel('barrios')\n",
        "plt.show()"
      ]
    },
    {
      "cell_type": "code",
      "execution_count": null,
      "metadata": {
        "colab": {
          "base_uri": "https://localhost:8080/",
          "height": 573
        },
        "id": "AWiYyfoB9xoV",
        "outputId": "89e3027e-05ea-49eb-d0fb-2df54b7e6b2c"
      },
      "outputs": [
        {
          "name": "stdout",
          "output_type": "stream",
          "text": [
            "neighbourhood_group\n",
            "Manhattan        621.640501\n",
            "brooklyn         625.446759\n",
            "Bronx            625.517440\n",
            "Staten Island    625.896175\n",
            "Queens           628.546051\n",
            "Name: price, dtype: float64\n"
          ]
        },
        {
          "data": {
            "text/plain": [
              "<Axes: ylabel='neighbourhood_group'>"
            ]
          },
          "execution_count": 39,
          "metadata": {},
          "output_type": "execute_result"
        },
        {
          "data": {
            "image/png": "[encoded data removed]",
            "text/plain": [
              "<Figure size 432x288 with 1 Axes>"
            ]
          },
          "metadata": {
            "needs_background": "light"
          },
          "output_type": "display_data"
        }
      ],
      "source": [
        "# ojo en clase (ascending=False)\n",
        "\n",
        "grouped_prices_ascend =df[\"price\"].groupby(df[\"neighbourhood_group\"]).mean().sort_values(ascending=True)\n",
        "print(grouped_prices_ascend)\n",
        "grouped_prices_ascend.plot(kind='barh', color='skyblue')"
      ]
    },
    {
      "cell_type": "code",
      "execution_count": null,
      "metadata": {
        "colab": {
          "base_uri": "https://localhost:8080/"
        },
        "id": "oWPFBYzK3qAI",
        "outputId": "61f9ffec-3a0b-4972-9d3e-ccab11f7b4a5"
      },
      "outputs": [
        {
          "name": "stdout",
          "output_type": "stream",
          "text": [
            "<bound method Series.info of neighbourhood_group\n",
            "Manhattan        621.640501\n",
            "brooklyn         625.446759\n",
            "Bronx            625.517440\n",
            "Staten Island    625.896175\n",
            "Queens           628.546051\n",
            "Name: price, dtype: float64>\n",
            "price\n"
          ]
        }
      ],
      "source": [
        "list1 = [grouped_prices_ascend]\n",
        "for i in list1:\n",
        "  print(i.info)\n",
        "# names_list= ['Manhattan','brooklyn','Bronx','Staten Island','Queens']\n",
        "\n",
        "df2 = pd.DataFrame(list1).transpose()\n",
        "#print(df2.columns.rename[\"mean_price\", \"neighbourhood_group\" ])\n",
        "#df2.rename(columns=[\"mean_price\", \"neighbourhood_group\" ])\n",
        "print(df2.columns[0])\n",
        "\n",
        "\n",
        "#plt.bar(data =df2, x=df[\"neighbourhood_group\"].unique(), height=df2)"
      ]
    },
    {
      "cell_type": "code",
      "execution_count": null,
      "metadata": {
        "colab": {
          "base_uri": "https://localhost:8080/",
          "height": 549
        },
        "id": "3HEXEeGf-NeV",
        "outputId": "5ba88eaf-7961-49a5-b8c6-b73434513d5a"
      },
      "outputs": [
        {
          "data": {
            "image/png": "[encoded data removed]",
            "text/plain": [
              "<Figure size 432x288 with 1 Axes>"
            ]
          },
          "metadata": {
            "needs_background": "light"
          },
          "output_type": "display_data"
        }
      ],
      "source": [
        "#import matplotlib.pyplot as plt\n",
        "\n",
        "#Plotear valores: grouped_prices_ascend\n",
        "grouped_prices_ascend.plot(kind = 'bar')\n",
        "# plt.bar(df[\"neighbourhood_group\"], grouped_prices_ascend)\n",
        "\n",
        "\n",
        "# Personalizar gráfico:\n",
        "plt.xlabel(\"Suma de precios ¿?\")\n",
        "plt.ylabel(\"Grupo de barrios (neighbourhood_group)\")\n",
        "plt.title(\"Suma de precios según el grupo de barrio al que pertenece (asc)\")\n",
        "\n",
        "#Mostrar gráfico hola\n",
        "plt.show()\n",
        "\n"
      ]
    },
    {
      "cell_type": "code",
      "execution_count": null,
      "metadata": {
        "id": "CjHyRqAP_wki"
      },
      "outputs": [],
      "source": []
    },
    {
      "cell_type": "code",
      "execution_count": null,
      "metadata": {
        "colab": {
          "base_uri": "https://localhost:8080/",
          "height": 468
        },
        "id": "tePSp3124b1K",
        "outputId": "a2af3322-9e75-47f7-ffd2-1c3fbb70a99b"
      },
      "outputs": [
        {
          "data": {
            "text/plain": [
              "<Axes: xlabel='neighbourhood_group'>"
            ]
          },
          "execution_count": 42,
          "metadata": {},
          "output_type": "execute_result"
        },
        {
          "data": {
            "image/png": "[encoded data removed]",
            "text/plain": [
              "<Figure size 432x288 with 1 Axes>"
            ]
          },
          "metadata": {
            "needs_background": "light"
          },
          "output_type": "display_data"
        }
      ],
      "source": [
        "grouped_prices_ascend.plot()"
      ]
    },
    {
      "cell_type": "code",
      "execution_count": null,
      "metadata": {
        "id": "0Z_KM9mFtm-P"
      },
      "outputs": [],
      "source": []
    },
    {
      "cell_type": "code",
      "execution_count": null,
      "metadata": {
        "colab": {
          "base_uri": "https://localhost:8080/"
        },
        "id": "b-5qTx0c9CXr",
        "outputId": "85b6f69d-9989-4754-fc1a-a0ebf58016b5"
      },
      "outputs": [
        {
          "name": "stdout",
          "output_type": "stream",
          "text": [
            "neighbourhood_group\n",
            "Staten Island      572695.0\n",
            "Bronx             1631975.0\n",
            "Queens            8046018.0\n",
            "brooklyn         25221766.0\n",
            "Manhattan        26307826.0\n",
            "Name: price, dtype: float64\n"
          ]
        }
      ],
      "source": [
        "# ojo en clase (ascending=False)\n",
        "\n",
        "grouped_prices_ascend =df[\"price\"].groupby(df[\"neighbourhood_group\"]).sum().sort_values(ascending=True)\n",
        "print(grouped_prices_ascend)\n"
      ]
    },
    {
      "cell_type": "code",
      "execution_count": null,
      "metadata": {
        "colab": {
          "base_uri": "https://localhost:8080/",
          "height": 549
        },
        "id": "y6Frnkw4tLne",
        "outputId": "c3b8b043-8685-4149-ff7f-00b7883cfc54"
      },
      "outputs": [
        {
          "data": {
            "image/png": "[encoded data removed]",
            "text/plain": [
              "<Figure size 432x288 with 1 Axes>"
            ]
          },
          "metadata": {
            "needs_background": "light"
          },
          "output_type": "display_data"
        }
      ],
      "source": [
        "import matplotlib.pyplot as plt\n",
        "\n",
        "# Calcular la media de los precios por barrio medias_por_barrio = df.groupby('barrio')['precio'].mean()\n",
        "m = df.groupby(\"neighbourhood_group\")['price'].sum().sort_values(ascending=True)\n",
        "# Crear el diagrama de barras\n",
        "m.plot(kind='bar')\n",
        "plt.title('Media de precios por barrio')\n",
        "plt.xlabel('Barrio')\n",
        "plt.ylabel('Precio medio')\n",
        "plt.show()\n"
      ]
    },
    {
      "cell_type": "code",
      "execution_count": null,
      "metadata": {
        "colab": {
          "base_uri": "https://localhost:8080/"
        },
        "id": "lUs-kvmx9AHX",
        "outputId": "1f028e29-af7f-417f-80f5-3010f4fc3067"
      },
      "outputs": [
        {
          "name": "stdout",
          "output_type": "stream",
          "text": [
            "neighbourhood_group\n",
            "Manhattan        621.640501\n",
            "brooklyn         625.446759\n",
            "Bronx            625.517440\n",
            "Staten Island    625.896175\n",
            "Queens           628.546051\n",
            "Name: price, dtype: float64\n"
          ]
        }
      ],
      "source": [
        "# ojo en clase (ascending=False)\n",
        "\n",
        "grouped_prices_ascend =df[\"price\"].groupby(df[\"neighbourhood_group\"]).mean().sort_values(ascending=True)\n",
        "print(grouped_prices_ascend)\n"
      ]
    },
    {
      "cell_type": "code",
      "execution_count": null,
      "metadata": {
        "colab": {
          "base_uri": "https://localhost:8080/",
          "height": 448
        },
        "id": "sk_OkxB80nlT",
        "outputId": "96696235-457b-4aa8-f1da-f8664ae5147e"
      },
      "outputs": [
        {
          "data": {
            "text/plain": [
              "<Axes: ylabel='price'>"
            ]
          },
          "execution_count": 46,
          "metadata": {},
          "output_type": "execute_result"
        },
        {
          "data": {
            "image/png": "[encoded data removed]",
            "text/plain": [
              "<Figure size 432x288 with 1 Axes>"
            ]
          },
          "metadata": {
            "needs_background": "light"
          },
          "output_type": "display_data"
        }
      ],
      "source": [
        "sns.barplot(x= df[\"neighbourhood_group\"].unique(), y = grouped_prices_ascend)"
      ]
    },
    {
      "cell_type": "code",
      "execution_count": null,
      "metadata": {},
      "outputs": [
        {
          "name": "stdout",
          "output_type": "stream",
          "text": [
            "neighbourhood_group\n",
            "Queens           628.546051\n",
            "Staten Island    625.896175\n",
            "Bronx            625.517440\n",
            "brooklyn         625.446759\n",
            "Manhattan        621.640501\n",
            "Name: price, dtype: float64\n",
            "precio media:  [628.5460510897586, 625.896174863388, 625.517439632043, 625.446758914844, 621.6405009451796]\n",
            "barrios :  ['Queens', 'Staten Island', 'Bronx', 'brooklyn', 'Manhattan']\n",
            "neighbourhood_group\n",
            "Queens           628.546051\n",
            "Staten Island    625.896175\n",
            "Bronx            625.517440\n",
            "brooklyn         625.446759\n",
            "Manhattan        621.640501\n",
            "Name: price, dtype: float64\n",
            "628.5460510897586\n"
          ]
        },
        {
          "data": {
            "text/plain": [
              "(610.0, 650.0)"
            ]
          },
          "execution_count": 47,
          "metadata": {},
          "output_type": "execute_result"
        },
        {
          "data": {
            "image/png": "[encoded data removed]",
            "text/plain": [
              "<Figure size 432x288 with 1 Axes>"
            ]
          },
          "metadata": {
            "needs_background": "light"
          },
          "output_type": "display_data"
        },
        {
          "data": {
            "image/png": "[encoded data removed]",
            "text/plain": [
              "<Figure size 432x288 with 1 Axes>"
            ]
          },
          "metadata": {
            "needs_background": "light"
          },
          "output_type": "display_data"
        }
      ],
      "source": [
        "grp2=df['price'].groupby(df['neighbourhood_group']).mean().sort_values(ascending=False)\n",
        "print(grp2)   \n",
        "yy = [628.54, 625.89, 625.51, 625.44, 621.64]\n",
        "y_precio_medio = grp2.values.tolist()\n",
        "x_nombres_gr_barrios = grp2.index.tolist()\n",
        "print(\"precio media: \", y_precio_medio)\n",
        " \n",
        "print(\"barrios : \", x_nombres_gr_barrios)\n",
        "#pd.DataFrame(df_list, columns=columns_names)\n",
        "print(grp2.head())\n",
        "fig, ax = plt.subplots()\n",
        "ax.bar(x=x_nombres_gr_barrios, height=yy )\n",
        " \n",
        "#plt.bar(\n",
        "# grp2.head(10).plot(kind='barh',color={'green'})\n",
        "plt.ylabel(\"Price\")\n",
        "plt.xlabel(\"Neighborhood\")\n",
        "new = []\n",
        "for i in grp2.values:\n",
        "    int(i)\n",
        "    new.append(i)\n",
        "\n",
        "print(new[0])\n",
        "# Datos\n",
        "x =  x_nombres_gr_barrios\n",
        "y = yy\n",
        "\n",
        "fig, ax = plt.subplots()\n",
        "ax.bar(x = x, height = y)\n",
        "plt.ylim(top=650)\n",
        "\n",
        "plt.yticks([610, 615, 620, 625, 630, 635, 640])\n",
        "plt.ylim(bottom=610)"
      ]
    },
    {
      "cell_type": "code",
      "execution_count": null,
      "metadata": {
        "colab": {
          "base_uri": "https://localhost:8080/"
        },
        "id": "w_Kc6Vy8AdZV",
        "outputId": "c45793e5-5685-4a6b-8adf-0a0fe6f9289e"
      },
      "outputs": [
        {
          "name": "stdout",
          "output_type": "stream",
          "text": [
            "neighbourhood_group\n",
            "Queens           628.546051\n",
            "Staten Island    625.896175\n",
            "Bronx            625.517440\n",
            "brooklyn         625.446759\n",
            "Manhattan        621.640501\n",
            "Name: price, dtype: float64\n"
          ]
        }
      ],
      "source": [
        "grouped_prices_dsc =df[\"price\"].groupby(df[\"neighbourhood_group\"]).mean().sort_values(ascending=False)\n",
        "print(grouped_prices_dsc)"
      ]
    },
    {
      "cell_type": "code",
      "execution_count": null,
      "metadata": {
        "id": "hOW15TdS3kxy"
      },
      "outputs": [],
      "source": []
    },
    {
      "cell_type": "code",
      "execution_count": null,
      "metadata": {
        "colab": {
          "base_uri": "https://localhost:8080/",
          "height": 143
        },
        "id": "cW0FHXOJBOfh",
        "outputId": "b56bbf9a-12bb-45bc-ec79-8032054a5475"
      },
      "outputs": [
        {
          "ename": "SyntaxError",
          "evalue": "invalid non-printable character U+200B (2987069184.py, line 2)",
          "output_type": "error",
          "traceback": [
            "\u001b[1;36m  Input \u001b[1;32mIn [49]\u001b[1;36m\u001b[0m\n\u001b[1;33m    ​\u001b[0m\n\u001b[1;37m    ^\u001b[0m\n\u001b[1;31mSyntaxError\u001b[0m\u001b[1;31m:\u001b[0m invalid non-printable character U+200B\n"
          ]
        }
      ],
      "source": [
        "\n",
        "\n",
        "# Data preparation flights_grouped = flights[['year', 'passengers']].astype({'year': 'string'}).groupby('year').sum().reset_index()\n",
        "​\n",
        "\n",
        "# Creating a line plot  plt.plot(flights_grouped['year'], flights_grouped['passengers'])\n",
        "\n",
        "#Plotear valores:\n",
        "plt.bar(df[\"neighbourhood_group\"], grouped_prices_dsc)\n",
        "#plt.plot(df[\"neighbourhood_group\"], grouped_prices_dsc)\n",
        "\n",
        "#grouped_prices_dsc.plot(kind='')\n",
        "\n",
        "\n",
        "# Personalizar gráfico:\n",
        "plt.xlabel(\"Suma de precios ¿?\")\n",
        "plt.ylabel(\"Grupo de barrios (neighbourhood_group)\")\n",
        "plt.title(\"Suma de precios según el grupo de barrio al que pertenece (asc)\")\n",
        "\n",
        "#Mostrar gráfico hola\n",
        "plt.show()"
      ]
    },
    {
      "cell_type": "code",
      "execution_count": null,
      "metadata": {
        "id": "pSaCTO_a_W14"
      },
      "outputs": [],
      "source": []
    },
    {
      "cell_type": "code",
      "execution_count": null,
      "metadata": {
        "id": "OELNL_SmDH9R"
      },
      "outputs": [
        {
          "data": {
            "image/png": "[encoded data removed]",
            "text/plain": [
              "<Figure size 432x288 with 1 Axes>"
            ]
          },
          "metadata": {
            "needs_background": "light"
          },
          "output_type": "display_data"
        }
      ],
      "source": [
        "# ------------------------------------------\n",
        "#Crear gráfico de caja:\n",
        "sns.boxplot(data = df, x = 'room_type', y ='price')\n",
        "\n",
        "\n",
        "# Personalizar gráfico:\n",
        "plt.xlabel(\"Tipo de habitación\")\n",
        "plt.ylabel(\"Precio\")\n",
        "plt.title(\"Distribución de precios según el tipo de habitación\")\n",
        "\n",
        "#Mostrar gráfico\n",
        "plt.show()"
      ]
    },
    {
      "cell_type": "markdown",
      "metadata": {
        "id": "qvDdH4x4_XOq"
      },
      "source": [
        "Qué tipo de habitación se adhiere a una política de cancelación más estricta.\n",
        "Enumere los precios por grupo de barrios y mencione también cuál es el grupo de barrios más caro\n",
        "para los alquileres.\n",
        "Enumere los 10 barrios más caros por orden creciente de precio con la ayuda de un gráfico de\n",
        "barras horizontales. ¿Cuál es el barrio más barato?\n",
        "Enumere los barrios que ofrecen alquileres a corto plazo de menos de 10 días. Ilustrar con un\n",
        "gráfico de barras\n",
        "Enumere los precios con respecto al tipo de habitación utilizando un gráfico de barras y exponga\n",
        "también sus inferencias.\n",
        "Cree un gráfico circular que muestre la distribución de los días reservados para cada grupo de\n",
        "barrios"
      ]
    },
    {
      "cell_type": "markdown",
      "metadata": {
        "id": "cqY2uONS-Q3Z"
      },
      "source": [
        "# Tarea 5b: Visualización de datos"
      ]
    },
    {
      "cell_type": "markdown",
      "metadata": {
        "id": "5iUyLVqK_APy"
      },
      "source": [
        "###¿El precio del servicio y el precio de la habitación tienen un impacto mutuo? Ilustre esta relación con un gráfico de dispersión e indique sus inferencias\n"
      ]
    },
    {
      "cell_type": "code",
      "execution_count": null,
      "metadata": {
        "id": "v-5ePakp_HY4"
      },
      "outputs": [],
      "source": []
    },
    {
      "cell_type": "markdown",
      "metadata": {
        "id": "gMi2JVwK_H4Y"
      },
      "source": [
        "###Utilizando un gráfico lineal muestre en qué año tuvo lugar la máxima construcción de habitaciones"
      ]
    },
    {
      "cell_type": "markdown",
      "metadata": {
        "id": "tTpTgLHI-ZQI"
      },
      "source": [
        "#Tarea 5c: Visualización de datos"
      ]
    },
    {
      "cell_type": "markdown",
      "metadata": {
        "id": "lDXyRPEo-eC2"
      },
      "source": [
        "## Con la ayuda de gráficos de caja ilustra lo siguiente\n",
        "###Efecto del número de tasa de revisión en el precio\n"
      ]
    },
    {
      "cell_type": "code",
      "execution_count": null,
      "metadata": {
        "id": "op0zp2rl-w6c"
      },
      "outputs": [],
      "source": [
        "# insert code"
      ]
    },
    {
      "cell_type": "markdown",
      "metadata": {
        "id": "8zqycQbI-y6M"
      },
      "source": [
        "###Efecto de la identidad del host verificada en el precio"
      ]
    },
    {
      "cell_type": "markdown",
      "metadata": {},
      "source": [
        "# Tarea 5c: Visualización de datos"
      ]
    }
  ],
  "metadata": {
    "colab": {
      "collapsed_sections": [
        "mKo8xksIIooo",
        "JNrDoYeHRutO",
        "HryEyHne93GU",
        "cqY2uONS-Q3Z",
        "tTpTgLHI-ZQI"
      ],
      "provenance": []
    },
    "kernelspec": {
      "display_name": "Python 3",
      "name": "python3"
    },
    "language_info": {
      "codemirror_mode": {
        "name": "ipython",
        "version": 3
      },
      "file_extension": ".py",
      "mimetype": "text/x-python",
      "name": "python",
      "nbconvert_exporter": "python",
      "pygments_lexer": "ipython3",
      "version": "3.10.2"
    }
  },
  "nbformat": 4,
  "nbformat_minor": 0
}
